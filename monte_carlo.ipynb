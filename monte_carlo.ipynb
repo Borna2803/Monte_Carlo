{
 "cells": [
  {
   "cell_type": "code",
   "execution_count": 166,
   "metadata": {},
   "outputs": [
    {
     "name": "stdout",
     "output_type": "stream",
     "text": [
      "[*********************100%***********************]  1 of 1 completed\n"
     ]
    }
   ],
   "source": [
    "import yfinance as yf\n",
    "import numpy as np\n",
    "from math import sqrt, log\n",
    "import matplotlib.pyplot as plt\n",
    "from time import time\n",
    "#from yahoofinancials import YahooFinancials\n",
    "#import pandas as pd\n",
    "data = yf.download(\"KO\")\n"
   ]
  },
  {
   "cell_type": "code",
   "execution_count": 167,
   "metadata": {},
   "outputs": [
    {
     "data": {
      "text/plain": [
       "2.4849066497880004"
      ]
     },
     "execution_count": 167,
     "metadata": {},
     "output_type": "execute_result"
    }
   ],
   "source": [
    "np.log(12)"
   ]
  },
  {
   "cell_type": "code",
   "execution_count": 168,
   "metadata": {},
   "outputs": [],
   "source": [
    "stockGrowth= np.array((data[\"Close\"]-data[\"Open\"]).to_numpy())\n",
    "growth_data=stockGrowth/data[\"Open\"]+1\n",
    "\n",
    "mean=np.mean(growth_data)\n",
    "stdev=np.std(growth_data)\n",
    "\n"
   ]
  },
  {
   "cell_type": "code",
   "execution_count": 169,
   "metadata": {},
   "outputs": [],
   "source": [
    "def uniform_generator(prev: int)->int: #return is in interval [0,100]\n",
    "    mod=2 ** 32\n",
    "    a=1103515245\n",
    "    b=12345\n",
    "    return(a*prev+b)%mod"
   ]
  },
  {
   "cell_type": "code",
   "execution_count": 170,
   "metadata": {},
   "outputs": [],
   "source": [
    "def hastings_approx(u:float)->int:\n",
    "    c0=2.515517\n",
    "    c1=0.802853\n",
    "    c2=0.010328\n",
    "    d1=1.432788\n",
    "    d2=0.189269\n",
    "    d3=0.001308\n",
    "    Hz=np.float64(1-u)\n",
    "    if Hz > 0.5:\n",
    "        H=np.float64(1-Hz)\n",
    "    else:\n",
    "        H=np.float64(Hz)\n",
    "    \n",
    "    t=sqrt(np.log(1/(H*H)))\n",
    "    k=t-(c0+c1*t+c2*t*t)/(1+d1*t+d2*t*t+ d3*t*t*t)\n",
    "    if Hz > 0.5:\n",
    "        k=-k\n",
    "    return k      "
   ]
  },
  {
   "cell_type": "code",
   "execution_count": 171,
   "metadata": {},
   "outputs": [],
   "source": [
    "random=uniform_generator(time())\n",
    "prediction_list=[]\n",
    "for i in range(1000):\n",
    "    z=hastings_approx(random/2 ** 32)\n",
    "    prediction_list.append(z*stdev+mean)\n",
    "    random=uniform_generator(random)"
   ]
  },
  {
   "cell_type": "code",
   "execution_count": 172,
   "metadata": {},
   "outputs": [],
   "source": [
    "current=data[\"Close\"][-1]\n",
    "predicted_price=[]\n",
    "for i in range(len(prediction_list)):\n",
    "    predicted_price.append(current)\n",
    "    current=current*prediction_list[i]"
   ]
  },
  {
   "cell_type": "code",
   "execution_count": 173,
   "metadata": {},
   "outputs": [
    {
     "data": {
      "image/png": "[encoded data removed]",
      "text/plain": [
       "<Figure size 432x288 with 1 Axes>"
      ]
     },
     "metadata": {
      "needs_background": "light"
     },
     "output_type": "display_data"
    }
   ],
   "source": [
    "plt.plot(predicted_price)\n",
    "plt.show()"
   ]
  }
 ],
 "metadata": {
  "kernelspec": {
   "display_name": "Python 3.10.6 64-bit",
   "language": "python",
   "name": "python3"
  },
  "language_info": {
   "codemirror_mode": {
    "name": "ipython",
    "version": 3
   },
   "file_extension": ".py",
   "mimetype": "text/x-python",
   "name": "python",
   "nbconvert_exporter": "python",
   "pygments_lexer": "ipython3",
   "version": "3.10.6"
  },
  "orig_nbformat": 4,
  "vscode": {
   "interpreter": {
    "hash": "916dbcbb3f70747c44a77c7bcd40155683ae19c65e1c03b4aa3499c5328201f1"
   }
  }
 },
 "nbformat": 4,
 "nbformat_minor": 2
}
